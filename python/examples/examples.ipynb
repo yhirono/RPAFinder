{
 "cells": [
  {
   "cell_type": "markdown",
   "metadata": {},
   "source": [
    "# Examples"
   ]
  },
  {
   "cell_type": "markdown",
   "metadata": {},
   "source": [
    "In this notebook, we describe simple examples illustrating the use of `rpa_finder`. See [arXiv:2307.07444](https://arxiv.org/abs/2307.07444) for details.\n"
   ]
  },
  {
   "cell_type": "markdown",
   "metadata": {},
   "source": [
    "## Installation Instructions\n",
    "\n",
    "This notebook uses the following packages:\n",
    "\n",
    "- `pandas`\n",
    "- `ipython`\n",
    "- `rpa_finder`\n",
    "\n",
    "You can install these packages using the following commands:\n",
    "\n",
    "```bash\n",
    "pip install pandas ipython rpa_finder\n"
   ]
  },
  {
   "cell_type": "markdown",
   "metadata": {},
   "source": [
    "## Definitions of functions for displaying results"
   ]
  },
  {
   "cell_type": "markdown",
   "metadata": {},
   "source": [
    "Below we prepare some functions for illustration."
   ]
  },
  {
   "cell_type": "code",
   "execution_count": 6,
   "metadata": {},
   "outputs": [],
   "source": [
    "import pandas as pd\n",
    "from rpa_finder.reaction_system import ReactionSystem\n",
    "from IPython.display import Markdown, display\n",
    "\n",
    "\n",
    "def transpose(matrix): # transpose a list of lists\n",
    "    return list(map(list, zip(*matrix)))\n",
    "\n",
    "\n",
    "def list_indices(network, input_type='string'):\n",
    "    system = ReactionSystem(network, input_type)\n",
    "    bs = system.enumerate_buffering_structures()\n",
    "    \n",
    "    influence_indices = [system.compute_influence_index(b) for b in bs]\n",
    "    num_emergent_cycles = [ len(system.get_emergent_cycles(b)) for b in bs]\n",
    "    num_emergent_conserved_quantities = [ len(system.get_emergent_conserved_quantities(b)) for b in bs]\n",
    "    num_lost_conserved_quantities = [ len(system.get_lost_conserved_quantities(b)) for b in bs]    \n",
    "\n",
    "    bs_name = [ system.bs_to_name(b) for b in bs]\n",
    "    bs_T = transpose(bs_name)\n",
    "\n",
    "    bs_data = {\n",
    "        'species' : bs_T[0],\n",
    "        'reactions' : bs_T[1],\n",
    "        'influence index' : influence_indices,\n",
    "        'em. cycles' : num_emergent_cycles,\n",
    "        'lost cons. quant.' : num_lost_conserved_quantities,\n",
    "        'em. cons. quant.' : num_emergent_conserved_quantities\n",
    "    }\n",
    "\n",
    "    title_bs = 'Buffering structures'\n",
    "    df_bs = pd.DataFrame(bs_data)\n",
    "    styled_df_bs = df_bs.style.set_table_attributes('style=\"font-size: 13px\"').set_caption(title_bs)\n",
    "\n",
    "    display(styled_df_bs)\n",
    "\n",
    "\n",
    "def display_integrators(integrators):\n",
    "    for i in range(4):\n",
    "        display( Markdown(\"$\\\\frac{d}{dt}\" + integrators[2*i] + \"=\" + integrators[2*i+1] + \"$\") )\n",
    "    return\n",
    "\n",
    "\n"
   ]
  },
  {
   "cell_type": "markdown",
   "metadata": {},
   "source": [
    "## Example 1"
   ]
  },
  {
   "cell_type": "markdown",
   "metadata": {},
   "source": [
    "\n",
    "We consider a reaction network with the following list of reactions:\n",
    "\n",
    "$e_1: \\emptyset \\to v_1$\n",
    "\n",
    "$e_2: v_1 \\to v_2$ \n",
    "\n",
    "$e_3: v_2 \\to v_3$\n",
    "\n",
    "$e_4: v_3 \\to v_1$\n",
    "\n",
    "$e_5: v_2 \\to \\emptyset$\n",
    "\n",
    "\n"
   ]
  },
  {
   "cell_type": "markdown",
   "metadata": {},
   "source": [
    "A `ReactionSystem` object corresponding to this network can be created as follows:"
   ]
  },
  {
   "cell_type": "code",
   "execution_count": 7,
   "metadata": {},
   "outputs": [],
   "source": [
    "network1 = \"\"\"\n",
    "\"\", \"v1\"\n",
    "\"v1\", \"v2\"\n",
    "\"v2\", \"v3\"\n",
    "\"v3\", \"v1\"\n",
    "\"v2\", \"\"\n",
    "\"\"\"\n",
    "\n",
    "r_system1 = ReactionSystem(network1)\n"
   ]
  },
  {
   "cell_type": "markdown",
   "metadata": {},
   "source": [
    "The labeled buffering structures for this network is computed by `enumerate_labeled_buffering_structures()` as follows:"
   ]
  },
  {
   "cell_type": "code",
   "execution_count": 8,
   "metadata": {},
   "outputs": [
    {
     "name": "stdout",
     "output_type": "stream",
     "text": [
      "[[0], [0, 1, 2], [0, 1, 2, 3, 4], []]\n",
      "[[1], [0], [], [1]]\n",
      "[[2], [0, 2], [1, 2, 3], []]\n",
      "[[3], [2], [], [3]]\n",
      "[[4], [0, 1, 2], [1, 2, 3], [4]]\n"
     ]
    }
   ],
   "source": [
    "lbs_list_1 = r_system1.enumerate_labeled_buffering_structures()\n",
    "\n",
    "for lbs in lbs_list_1:\n",
    "    print(lbs)\n"
   ]
  },
  {
   "cell_type": "markdown",
   "metadata": {},
   "source": [
    "Note that the indices of species and reactions start with zero.\n",
    "To show them using names for species, one can use the method `lbs_to_name`:"
   ]
  },
  {
   "cell_type": "code",
   "execution_count": 9,
   "metadata": {},
   "outputs": [
    {
     "name": "stdout",
     "output_type": "stream",
     "text": [
      "[[0], ['v1', 'v2', 'v3'], [0, 1, 2, 3, 4], []]\n",
      "[[1], ['v1'], [], [1]]\n",
      "[[2], ['v1', 'v3'], [1, 2, 3], []]\n",
      "[[3], ['v3'], [], [3]]\n",
      "[[4], ['v1', 'v2', 'v3'], [1, 2, 3], [4]]\n"
     ]
    }
   ],
   "source": [
    "for lbs in lbs_list_1:\n",
    "    print(r_system1.lbs_to_name(lbs))\n",
    "\n"
   ]
  },
  {
   "cell_type": "markdown",
   "metadata": {},
   "source": [
    "Let us obtain the integrator equations for the RPA property represented by a labeled buffering structure.\n"
   ]
  },
  {
   "cell_type": "code",
   "execution_count": 10,
   "metadata": {},
   "outputs": [
    {
     "data": {
      "text/markdown": [
       "$\\frac{d}{dt}\\left[\\begin{matrix}\\end{matrix}\\right]=\\left[\\begin{matrix}\\end{matrix}\\right]$"
      ],
      "text/plain": [
       "<IPython.core.display.Markdown object>"
      ]
     },
     "metadata": {},
     "output_type": "display_data"
    },
    {
     "data": {
      "text/markdown": [
       "$\\frac{d}{dt}\\left[\\begin{matrix}v_{1} + v_{2}\\\\v_{3}\\end{matrix}\\right]=\\left[\\begin{matrix}r_{1} - r_{3} + r_{4} - r_{5}\\\\r_{3} - r_{4}\\end{matrix}\\right]$"
      ],
      "text/plain": [
       "<IPython.core.display.Markdown object>"
      ]
     },
     "metadata": {},
     "output_type": "display_data"
    },
    {
     "data": {
      "text/markdown": [
       "$\\frac{d}{dt}\\left[\\begin{matrix}- v_{1}\\end{matrix}\\right]=\\left[\\begin{matrix}- r_{1} + r_{2} - r_{4}\\end{matrix}\\right]$"
      ],
      "text/plain": [
       "<IPython.core.display.Markdown object>"
      ]
     },
     "metadata": {},
     "output_type": "display_data"
    },
    {
     "data": {
      "text/markdown": [
       "$\\frac{d}{dt}\\left[\\begin{matrix}v_{2}\\end{matrix}\\right]=\\left[\\begin{matrix}r_{2} - r_{3} - r_{5}\\end{matrix}\\right]$"
      ],
      "text/plain": [
       "<IPython.core.display.Markdown object>"
      ]
     },
     "metadata": {},
     "output_type": "display_data"
    }
   ],
   "source": [
    "num = 1\n",
    "\n",
    "display_integrators(\n",
    "    r_system1.find_integrators_from_lbs(lbs_list_1[num], symbol_mode='name')\n",
    ")\n",
    "\n"
   ]
  },
  {
   "cell_type": "markdown",
   "metadata": {},
   "source": [
    "For each buffering structure, let us list the influence index, the number of emergent cycles, lost conserved quantities, and emergent conserved quantities:"
   ]
  },
  {
   "cell_type": "code",
   "execution_count": 11,
   "metadata": {},
   "outputs": [
    {
     "data": {
      "text/html": [
       "<style type=\"text/css\">\n",
       "</style>\n",
       "<table id=\"T_e0af3\" style=\"font-size: 13px\">\n",
       "  <caption>Buffering structures</caption>\n",
       "  <thead>\n",
       "    <tr>\n",
       "      <th class=\"blank level0\" >&nbsp;</th>\n",
       "      <th id=\"T_e0af3_level0_col0\" class=\"col_heading level0 col0\" >species</th>\n",
       "      <th id=\"T_e0af3_level0_col1\" class=\"col_heading level0 col1\" >reactions</th>\n",
       "      <th id=\"T_e0af3_level0_col2\" class=\"col_heading level0 col2\" >influence index</th>\n",
       "      <th id=\"T_e0af3_level0_col3\" class=\"col_heading level0 col3\" >em. cycles</th>\n",
       "      <th id=\"T_e0af3_level0_col4\" class=\"col_heading level0 col4\" >lost cons. quant.</th>\n",
       "      <th id=\"T_e0af3_level0_col5\" class=\"col_heading level0 col5\" >em. cons. quant.</th>\n",
       "    </tr>\n",
       "  </thead>\n",
       "  <tbody>\n",
       "    <tr>\n",
       "      <th id=\"T_e0af3_level0_row0\" class=\"row_heading level0 row0\" >0</th>\n",
       "      <td id=\"T_e0af3_row0_col0\" class=\"data row0 col0\" >['v1', 'v2', 'v3']</td>\n",
       "      <td id=\"T_e0af3_row0_col1\" class=\"data row0 col1\" >[0, 1, 2, 3, 4]</td>\n",
       "      <td id=\"T_e0af3_row0_col2\" class=\"data row0 col2\" >0</td>\n",
       "      <td id=\"T_e0af3_row0_col3\" class=\"data row0 col3\" >0</td>\n",
       "      <td id=\"T_e0af3_row0_col4\" class=\"data row0 col4\" >0</td>\n",
       "      <td id=\"T_e0af3_row0_col5\" class=\"data row0 col5\" >0</td>\n",
       "    </tr>\n",
       "    <tr>\n",
       "      <th id=\"T_e0af3_level0_row1\" class=\"row_heading level0 row1\" >1</th>\n",
       "      <td id=\"T_e0af3_row1_col0\" class=\"data row1 col0\" >['v1']</td>\n",
       "      <td id=\"T_e0af3_row1_col1\" class=\"data row1 col1\" >[1]</td>\n",
       "      <td id=\"T_e0af3_row1_col2\" class=\"data row1 col2\" >0</td>\n",
       "      <td id=\"T_e0af3_row1_col3\" class=\"data row1 col3\" >0</td>\n",
       "      <td id=\"T_e0af3_row1_col4\" class=\"data row1 col4\" >0</td>\n",
       "      <td id=\"T_e0af3_row1_col5\" class=\"data row1 col5\" >0</td>\n",
       "    </tr>\n",
       "    <tr>\n",
       "      <th id=\"T_e0af3_level0_row2\" class=\"row_heading level0 row2\" >2</th>\n",
       "      <td id=\"T_e0af3_row2_col0\" class=\"data row2 col0\" >['v1', 'v3']</td>\n",
       "      <td id=\"T_e0af3_row2_col1\" class=\"data row2 col1\" >[1, 2, 3]</td>\n",
       "      <td id=\"T_e0af3_row2_col2\" class=\"data row2 col2\" >0</td>\n",
       "      <td id=\"T_e0af3_row2_col3\" class=\"data row2 col3\" >0</td>\n",
       "      <td id=\"T_e0af3_row2_col4\" class=\"data row2 col4\" >0</td>\n",
       "      <td id=\"T_e0af3_row2_col5\" class=\"data row2 col5\" >0</td>\n",
       "    </tr>\n",
       "    <tr>\n",
       "      <th id=\"T_e0af3_level0_row3\" class=\"row_heading level0 row3\" >3</th>\n",
       "      <td id=\"T_e0af3_row3_col0\" class=\"data row3 col0\" >['v3']</td>\n",
       "      <td id=\"T_e0af3_row3_col1\" class=\"data row3 col1\" >[3]</td>\n",
       "      <td id=\"T_e0af3_row3_col2\" class=\"data row3 col2\" >0</td>\n",
       "      <td id=\"T_e0af3_row3_col3\" class=\"data row3 col3\" >0</td>\n",
       "      <td id=\"T_e0af3_row3_col4\" class=\"data row3 col4\" >0</td>\n",
       "      <td id=\"T_e0af3_row3_col5\" class=\"data row3 col5\" >0</td>\n",
       "    </tr>\n",
       "    <tr>\n",
       "      <th id=\"T_e0af3_level0_row4\" class=\"row_heading level0 row4\" >4</th>\n",
       "      <td id=\"T_e0af3_row4_col0\" class=\"data row4 col0\" >['v1', 'v2', 'v3']</td>\n",
       "      <td id=\"T_e0af3_row4_col1\" class=\"data row4 col1\" >[1, 2, 3, 4]</td>\n",
       "      <td id=\"T_e0af3_row4_col2\" class=\"data row4 col2\" >0</td>\n",
       "      <td id=\"T_e0af3_row4_col3\" class=\"data row4 col3\" >0</td>\n",
       "      <td id=\"T_e0af3_row4_col4\" class=\"data row4 col4\" >0</td>\n",
       "      <td id=\"T_e0af3_row4_col5\" class=\"data row4 col5\" >0</td>\n",
       "    </tr>\n",
       "  </tbody>\n",
       "</table>\n"
      ],
      "text/plain": [
       "<pandas.io.formats.style.Styler at 0x134138550>"
      ]
     },
     "metadata": {},
     "output_type": "display_data"
    }
   ],
   "source": [
    "list_indices(network1)"
   ]
  },
  {
   "cell_type": "markdown",
   "metadata": {},
   "source": [
    "## Example 2"
   ]
  },
  {
   "cell_type": "markdown",
   "metadata": {},
   "source": [
    "\n",
    "$e_1: \\emptyset \\to v_1$\n",
    "\n",
    "$e_2: v_1 \\to v_2$\n",
    "\n",
    "$e_3: v_2 \\to \\emptyset$\n",
    "\n",
    "$e_4: v_1 + v_2 \\to v_3 + v_4$\n",
    "\n",
    "$e_5: v_3 + v_4 \\to v_1 + v_2$\n",
    "\n",
    "\n",
    "\n"
   ]
  },
  {
   "cell_type": "code",
   "execution_count": 12,
   "metadata": {},
   "outputs": [
    {
     "name": "stdout",
     "output_type": "stream",
     "text": [
      "[[0], [0, 1, 2, 3], [0, 1, 2, 3, 4], []]\n",
      "[[1], [0, 2, 3], [3, 4], [1]]\n",
      "[[2], [1, 2, 3], [3, 4], [2]]\n",
      "[[3], [2, 3], [3, 4], []]\n",
      "[[4, 5], [2, 3], [], [4]]\n"
     ]
    }
   ],
   "source": [
    "from rpa_finder.reaction_system import ReactionSystem\n",
    "from rpa_finder.reaction_system import from_lbs_to_bs\n",
    "\n",
    "network_ex2 = \"\"\"\n",
    "\"\", \"v1\"\n",
    "\"v1\", \"v2\"\n",
    "\"v2\", \"\"\n",
    "\"v1\"+\"v2\", \"v3\"+\"v4\"\n",
    "\"v3\"+\"v4\", \"v1\"+\"v2\"\n",
    "\"\"\"\n",
    "\n",
    "r_sys_cons = ReactionSystem( network_ex2 )\n",
    "lbs_cons = r_sys_cons.enumerate_labeled_buffering_structures()\n",
    "\n",
    "for lbs in lbs_cons:\n",
    "    print(lbs)\n"
   ]
  },
  {
   "cell_type": "code",
   "execution_count": 13,
   "metadata": {},
   "outputs": [
    {
     "data": {
      "text/markdown": [
       "$\\frac{d}{dt}\\left[\\begin{matrix}\\end{matrix}\\right]=\\left[\\begin{matrix}\\end{matrix}\\right]$"
      ],
      "text/plain": [
       "<IPython.core.display.Markdown object>"
      ]
     },
     "metadata": {},
     "output_type": "display_data"
    },
    {
     "data": {
      "text/markdown": [
       "$\\frac{d}{dt}\\left[\\begin{matrix}v_{1} + \\frac{v_{3}}{2} + \\frac{v_{4}}{2}\\\\v_{2} + \\frac{v_{3}}{2} + \\frac{v_{4}}{2}\\end{matrix}\\right]=\\left[\\begin{matrix}r_{1} - r_{2}\\\\r_{2} - r_{3}\\end{matrix}\\right]$"
      ],
      "text/plain": [
       "<IPython.core.display.Markdown object>"
      ]
     },
     "metadata": {},
     "output_type": "display_data"
    },
    {
     "data": {
      "text/markdown": [
       "$\\frac{d}{dt}\\left[\\begin{matrix}- \\frac{v_{3}}{2} - \\frac{v_{4}}{2}\\end{matrix}\\right]=\\left[\\begin{matrix}- r_{4} + r_{5}\\end{matrix}\\right]$"
      ],
      "text/plain": [
       "<IPython.core.display.Markdown object>"
      ]
     },
     "metadata": {},
     "output_type": "display_data"
    },
    {
     "data": {
      "text/markdown": [
       "$\\frac{d}{dt}\\left[\\begin{matrix}\\frac{v_{1}}{2} + \\frac{v_{2}}{2}\\end{matrix}\\right]=\\left[\\begin{matrix}\\frac{r_{1}}{2} - \\frac{r_{3}}{2} - r_{4} + r_{5}\\end{matrix}\\right]$"
      ],
      "text/plain": [
       "<IPython.core.display.Markdown object>"
      ]
     },
     "metadata": {},
     "output_type": "display_data"
    }
   ],
   "source": [
    "num = 4\n",
    "\n",
    "display_integrators(\n",
    "    r_sys_cons.find_integrators_from_lbs(lbs_cons[num], symbol_mode='name')\n",
    ")"
   ]
  },
  {
   "cell_type": "code",
   "execution_count": 14,
   "metadata": {},
   "outputs": [
    {
     "data": {
      "text/html": [
       "<style type=\"text/css\">\n",
       "</style>\n",
       "<table id=\"T_ac973\" style=\"font-size: 13px\">\n",
       "  <caption>Buffering structures</caption>\n",
       "  <thead>\n",
       "    <tr>\n",
       "      <th class=\"blank level0\" >&nbsp;</th>\n",
       "      <th id=\"T_ac973_level0_col0\" class=\"col_heading level0 col0\" >species</th>\n",
       "      <th id=\"T_ac973_level0_col1\" class=\"col_heading level0 col1\" >reactions</th>\n",
       "      <th id=\"T_ac973_level0_col2\" class=\"col_heading level0 col2\" >influence index</th>\n",
       "      <th id=\"T_ac973_level0_col3\" class=\"col_heading level0 col3\" >em. cycles</th>\n",
       "      <th id=\"T_ac973_level0_col4\" class=\"col_heading level0 col4\" >lost cons. quant.</th>\n",
       "      <th id=\"T_ac973_level0_col5\" class=\"col_heading level0 col5\" >em. cons. quant.</th>\n",
       "    </tr>\n",
       "  </thead>\n",
       "  <tbody>\n",
       "    <tr>\n",
       "      <th id=\"T_ac973_level0_row0\" class=\"row_heading level0 row0\" >0</th>\n",
       "      <td id=\"T_ac973_row0_col0\" class=\"data row0 col0\" >['v1', 'v2', 'v3', 'v4']</td>\n",
       "      <td id=\"T_ac973_row0_col1\" class=\"data row0 col1\" >[0, 1, 2, 3, 4]</td>\n",
       "      <td id=\"T_ac973_row0_col2\" class=\"data row0 col2\" >0</td>\n",
       "      <td id=\"T_ac973_row0_col3\" class=\"data row0 col3\" >0</td>\n",
       "      <td id=\"T_ac973_row0_col4\" class=\"data row0 col4\" >0</td>\n",
       "      <td id=\"T_ac973_row0_col5\" class=\"data row0 col5\" >0</td>\n",
       "    </tr>\n",
       "    <tr>\n",
       "      <th id=\"T_ac973_level0_row1\" class=\"row_heading level0 row1\" >1</th>\n",
       "      <td id=\"T_ac973_row1_col0\" class=\"data row1 col0\" >['v1', 'v3', 'v4']</td>\n",
       "      <td id=\"T_ac973_row1_col1\" class=\"data row1 col1\" >[1, 3, 4]</td>\n",
       "      <td id=\"T_ac973_row1_col2\" class=\"data row1 col2\" >0</td>\n",
       "      <td id=\"T_ac973_row1_col3\" class=\"data row1 col3\" >0</td>\n",
       "      <td id=\"T_ac973_row1_col4\" class=\"data row1 col4\" >0</td>\n",
       "      <td id=\"T_ac973_row1_col5\" class=\"data row1 col5\" >0</td>\n",
       "    </tr>\n",
       "    <tr>\n",
       "      <th id=\"T_ac973_level0_row2\" class=\"row_heading level0 row2\" >2</th>\n",
       "      <td id=\"T_ac973_row2_col0\" class=\"data row2 col0\" >['v2', 'v3', 'v4']</td>\n",
       "      <td id=\"T_ac973_row2_col1\" class=\"data row2 col1\" >[2, 3, 4]</td>\n",
       "      <td id=\"T_ac973_row2_col2\" class=\"data row2 col2\" >0</td>\n",
       "      <td id=\"T_ac973_row2_col3\" class=\"data row2 col3\" >0</td>\n",
       "      <td id=\"T_ac973_row2_col4\" class=\"data row2 col4\" >0</td>\n",
       "      <td id=\"T_ac973_row2_col5\" class=\"data row2 col5\" >0</td>\n",
       "    </tr>\n",
       "    <tr>\n",
       "      <th id=\"T_ac973_level0_row3\" class=\"row_heading level0 row3\" >3</th>\n",
       "      <td id=\"T_ac973_row3_col0\" class=\"data row3 col0\" >['v3', 'v4']</td>\n",
       "      <td id=\"T_ac973_row3_col1\" class=\"data row3 col1\" >[3, 4]</td>\n",
       "      <td id=\"T_ac973_row3_col2\" class=\"data row3 col2\" >0</td>\n",
       "      <td id=\"T_ac973_row3_col3\" class=\"data row3 col3\" >0</td>\n",
       "      <td id=\"T_ac973_row3_col4\" class=\"data row3 col4\" >0</td>\n",
       "      <td id=\"T_ac973_row3_col5\" class=\"data row3 col5\" >0</td>\n",
       "    </tr>\n",
       "    <tr>\n",
       "      <th id=\"T_ac973_level0_row4\" class=\"row_heading level0 row4\" >4</th>\n",
       "      <td id=\"T_ac973_row4_col0\" class=\"data row4 col0\" >['v3', 'v4']</td>\n",
       "      <td id=\"T_ac973_row4_col1\" class=\"data row4 col1\" >[4]</td>\n",
       "      <td id=\"T_ac973_row4_col2\" class=\"data row4 col2\" >0</td>\n",
       "      <td id=\"T_ac973_row4_col3\" class=\"data row4 col3\" >0</td>\n",
       "      <td id=\"T_ac973_row4_col4\" class=\"data row4 col4\" >0</td>\n",
       "      <td id=\"T_ac973_row4_col5\" class=\"data row4 col5\" >0</td>\n",
       "    </tr>\n",
       "  </tbody>\n",
       "</table>\n"
      ],
      "text/plain": [
       "<pandas.io.formats.style.Styler at 0x2b640c970>"
      ]
     },
     "metadata": {},
     "output_type": "display_data"
    }
   ],
   "source": [
    "list_indices( network_ex2 )\n"
   ]
  },
  {
   "cell_type": "markdown",
   "metadata": {},
   "source": [
    "## Example 3\n",
    "\n",
    "Let us discuss a reaction system with antithetic integral control.\n",
    "\n",
    "The list of reactions is as follows:\n",
    "\n",
    "$e_1 : z_1 \\to  z_1+x$\n",
    "\n",
    "$e_2 : z_1 + z_2 \\to \\emptyset$\n",
    "\n",
    "$e_3 : \\emptyset \\to z_1$\n",
    "\n",
    "$e_4 : 2x \\to 2x + z_2 $\n",
    "\n",
    "$e_5 : x \\to \\emptyset $\n",
    "\n",
    "$e_6 : y \\to y+z_1 $\n",
    "\n",
    "$e_7 : \\emptyset \\to y $\n",
    "\n",
    "$e_8 : y \\to \\emptyset $"
   ]
  },
  {
   "cell_type": "code",
   "execution_count": 15,
   "metadata": {},
   "outputs": [
    {
     "name": "stdout",
     "output_type": "stream",
     "text": [
      "[[0], [2, 3], [], [0, 1]]\n",
      "[[1], [3], [], [1]]\n",
      "[[2], [0, 2, 3], [0, 1, 2, 3, 4], []]\n",
      "[[3], [0, 2, 3], [0, 4], [1, 3]]\n",
      "[[4], [2, 3], [0, 4], [1]]\n",
      "[[5], [0, 2, 3], [0, 1, 3, 4, 5], []]\n",
      "[[6], [0, 1, 2, 3], [0, 1, 3, 4, 5, 6, 7], []]\n",
      "[[7], [0, 1, 2, 3], [0, 1, 3, 4, 5], [7]]\n"
     ]
    }
   ],
   "source": [
    "network_antithetic = \"\"\"\n",
    "\"z1\", \"z1\"+\"x\"\n",
    "\"z1\"+\"z2\", \"\"\n",
    "\"\", \"z1\"\n",
    "2\"x\", 2\"x\"+\"z2\"\n",
    "\"x\", \"\"\n",
    "\"y\", \"y\"+\"z1\"\n",
    "\"\", \"y\"\n",
    "\"y\", \"\"\n",
    "\"\"\"\n",
    "\n",
    "r_sys_antithetic = ReactionSystem(network_antithetic)\n",
    "lbs_antithetic = r_sys_antithetic.enumerate_labeled_buffering_structures()\n",
    "\n",
    "for lbs in lbs_antithetic:\n",
    "    print(lbs)\n"
   ]
  },
  {
   "cell_type": "code",
   "execution_count": 16,
   "metadata": {},
   "outputs": [
    {
     "data": {
      "text/markdown": [
       "$\\frac{d}{dt}\\left[\\begin{matrix}- z_{1} + z_{2}\\end{matrix}\\right]=\\left[\\begin{matrix}- r_{3} + r_{4} - r_{6}\\end{matrix}\\right]$"
      ],
      "text/plain": [
       "<IPython.core.display.Markdown object>"
      ]
     },
     "metadata": {},
     "output_type": "display_data"
    },
    {
     "data": {
      "text/markdown": [
       "$\\frac{d}{dt}\\left[\\begin{matrix}y\\end{matrix}\\right]=\\left[\\begin{matrix}r_{7} - r_{8}\\end{matrix}\\right]$"
      ],
      "text/plain": [
       "<IPython.core.display.Markdown object>"
      ]
     },
     "metadata": {},
     "output_type": "display_data"
    },
    {
     "data": {
      "text/markdown": [
       "$\\frac{d}{dt}\\left[\\begin{matrix}- \\frac{z_{1}}{2} - \\frac{z_{2}}{2}\\end{matrix}\\right]=\\left[\\begin{matrix}r_{2} - \\frac{r_{3}}{2} - \\frac{r_{4}}{2} - \\frac{r_{6}}{2}\\end{matrix}\\right]$"
      ],
      "text/plain": [
       "<IPython.core.display.Markdown object>"
      ]
     },
     "metadata": {},
     "output_type": "display_data"
    },
    {
     "data": {
      "text/markdown": [
       "$\\frac{d}{dt}\\left[\\begin{matrix}x\\end{matrix}\\right]=\\left[\\begin{matrix}r_{1} - r_{5}\\end{matrix}\\right]$"
      ],
      "text/plain": [
       "<IPython.core.display.Markdown object>"
      ]
     },
     "metadata": {},
     "output_type": "display_data"
    }
   ],
   "source": [
    "num = 0\n",
    "\n",
    "display_integrators(\n",
    "    r_sys_antithetic.find_integrators_from_lbs(lbs_antithetic[num], symbol_mode='name')\n",
    ")"
   ]
  },
  {
   "cell_type": "code",
   "execution_count": 17,
   "metadata": {},
   "outputs": [
    {
     "data": {
      "text/html": [
       "<style type=\"text/css\">\n",
       "</style>\n",
       "<table id=\"T_85136\" style=\"font-size: 13px\">\n",
       "  <caption>Buffering structures</caption>\n",
       "  <thead>\n",
       "    <tr>\n",
       "      <th class=\"blank level0\" >&nbsp;</th>\n",
       "      <th id=\"T_85136_level0_col0\" class=\"col_heading level0 col0\" >species</th>\n",
       "      <th id=\"T_85136_level0_col1\" class=\"col_heading level0 col1\" >reactions</th>\n",
       "      <th id=\"T_85136_level0_col2\" class=\"col_heading level0 col2\" >influence index</th>\n",
       "      <th id=\"T_85136_level0_col3\" class=\"col_heading level0 col3\" >em. cycles</th>\n",
       "      <th id=\"T_85136_level0_col4\" class=\"col_heading level0 col4\" >lost cons. quant.</th>\n",
       "      <th id=\"T_85136_level0_col5\" class=\"col_heading level0 col5\" >em. cons. quant.</th>\n",
       "    </tr>\n",
       "  </thead>\n",
       "  <tbody>\n",
       "    <tr>\n",
       "      <th id=\"T_85136_level0_row0\" class=\"row_heading level0 row0\" >0</th>\n",
       "      <td id=\"T_85136_row0_col0\" class=\"data row0 col0\" >['z1', 'z2']</td>\n",
       "      <td id=\"T_85136_row0_col1\" class=\"data row0 col1\" >[0, 1]</td>\n",
       "      <td id=\"T_85136_row0_col2\" class=\"data row0 col2\" >0</td>\n",
       "      <td id=\"T_85136_row0_col3\" class=\"data row0 col3\" >1</td>\n",
       "      <td id=\"T_85136_row0_col4\" class=\"data row0 col4\" >0</td>\n",
       "      <td id=\"T_85136_row0_col5\" class=\"data row0 col5\" >1</td>\n",
       "    </tr>\n",
       "    <tr>\n",
       "      <th id=\"T_85136_level0_row1\" class=\"row_heading level0 row1\" >1</th>\n",
       "      <td id=\"T_85136_row1_col0\" class=\"data row1 col0\" >['z2']</td>\n",
       "      <td id=\"T_85136_row1_col1\" class=\"data row1 col1\" >[1]</td>\n",
       "      <td id=\"T_85136_row1_col2\" class=\"data row1 col2\" >0</td>\n",
       "      <td id=\"T_85136_row1_col3\" class=\"data row1 col3\" >0</td>\n",
       "      <td id=\"T_85136_row1_col4\" class=\"data row1 col4\" >0</td>\n",
       "      <td id=\"T_85136_row1_col5\" class=\"data row1 col5\" >0</td>\n",
       "    </tr>\n",
       "    <tr>\n",
       "      <th id=\"T_85136_level0_row2\" class=\"row_heading level0 row2\" >2</th>\n",
       "      <td id=\"T_85136_row2_col0\" class=\"data row2 col0\" >['x', 'z1', 'z2']</td>\n",
       "      <td id=\"T_85136_row2_col1\" class=\"data row2 col1\" >[0, 1, 2, 3, 4]</td>\n",
       "      <td id=\"T_85136_row2_col2\" class=\"data row2 col2\" >0</td>\n",
       "      <td id=\"T_85136_row2_col3\" class=\"data row2 col3\" >0</td>\n",
       "      <td id=\"T_85136_row2_col4\" class=\"data row2 col4\" >0</td>\n",
       "      <td id=\"T_85136_row2_col5\" class=\"data row2 col5\" >0</td>\n",
       "    </tr>\n",
       "    <tr>\n",
       "      <th id=\"T_85136_level0_row3\" class=\"row_heading level0 row3\" >3</th>\n",
       "      <td id=\"T_85136_row3_col0\" class=\"data row3 col0\" >['x', 'z1', 'z2']</td>\n",
       "      <td id=\"T_85136_row3_col1\" class=\"data row3 col1\" >[0, 1, 3, 4]</td>\n",
       "      <td id=\"T_85136_row3_col2\" class=\"data row3 col2\" >0</td>\n",
       "      <td id=\"T_85136_row3_col3\" class=\"data row3 col3\" >0</td>\n",
       "      <td id=\"T_85136_row3_col4\" class=\"data row3 col4\" >0</td>\n",
       "      <td id=\"T_85136_row3_col5\" class=\"data row3 col5\" >0</td>\n",
       "    </tr>\n",
       "    <tr>\n",
       "      <th id=\"T_85136_level0_row4\" class=\"row_heading level0 row4\" >4</th>\n",
       "      <td id=\"T_85136_row4_col0\" class=\"data row4 col0\" >['z1', 'z2']</td>\n",
       "      <td id=\"T_85136_row4_col1\" class=\"data row4 col1\" >[0, 1, 4]</td>\n",
       "      <td id=\"T_85136_row4_col2\" class=\"data row4 col2\" >0</td>\n",
       "      <td id=\"T_85136_row4_col3\" class=\"data row4 col3\" >1</td>\n",
       "      <td id=\"T_85136_row4_col4\" class=\"data row4 col4\" >0</td>\n",
       "      <td id=\"T_85136_row4_col5\" class=\"data row4 col5\" >1</td>\n",
       "    </tr>\n",
       "    <tr>\n",
       "      <th id=\"T_85136_level0_row5\" class=\"row_heading level0 row5\" >5</th>\n",
       "      <td id=\"T_85136_row5_col0\" class=\"data row5 col0\" >['x', 'z1', 'z2']</td>\n",
       "      <td id=\"T_85136_row5_col1\" class=\"data row5 col1\" >[0, 1, 3, 4, 5]</td>\n",
       "      <td id=\"T_85136_row5_col2\" class=\"data row5 col2\" >0</td>\n",
       "      <td id=\"T_85136_row5_col3\" class=\"data row5 col3\" >0</td>\n",
       "      <td id=\"T_85136_row5_col4\" class=\"data row5 col4\" >0</td>\n",
       "      <td id=\"T_85136_row5_col5\" class=\"data row5 col5\" >0</td>\n",
       "    </tr>\n",
       "    <tr>\n",
       "      <th id=\"T_85136_level0_row6\" class=\"row_heading level0 row6\" >6</th>\n",
       "      <td id=\"T_85136_row6_col0\" class=\"data row6 col0\" >['x', 'y', 'z1', 'z2']</td>\n",
       "      <td id=\"T_85136_row6_col1\" class=\"data row6 col1\" >[0, 1, 3, 4, 5, 6, 7]</td>\n",
       "      <td id=\"T_85136_row6_col2\" class=\"data row6 col2\" >0</td>\n",
       "      <td id=\"T_85136_row6_col3\" class=\"data row6 col3\" >0</td>\n",
       "      <td id=\"T_85136_row6_col4\" class=\"data row6 col4\" >0</td>\n",
       "      <td id=\"T_85136_row6_col5\" class=\"data row6 col5\" >0</td>\n",
       "    </tr>\n",
       "    <tr>\n",
       "      <th id=\"T_85136_level0_row7\" class=\"row_heading level0 row7\" >7</th>\n",
       "      <td id=\"T_85136_row7_col0\" class=\"data row7 col0\" >['x', 'y', 'z1', 'z2']</td>\n",
       "      <td id=\"T_85136_row7_col1\" class=\"data row7 col1\" >[0, 1, 3, 4, 5, 7]</td>\n",
       "      <td id=\"T_85136_row7_col2\" class=\"data row7 col2\" >0</td>\n",
       "      <td id=\"T_85136_row7_col3\" class=\"data row7 col3\" >0</td>\n",
       "      <td id=\"T_85136_row7_col4\" class=\"data row7 col4\" >0</td>\n",
       "      <td id=\"T_85136_row7_col5\" class=\"data row7 col5\" >0</td>\n",
       "    </tr>\n",
       "  </tbody>\n",
       "</table>\n"
      ],
      "text/plain": [
       "<pandas.io.formats.style.Styler at 0x2b640c400>"
      ]
     },
     "metadata": {},
     "output_type": "display_data"
    }
   ],
   "source": [
    "list_indices( network_antithetic )\n"
   ]
  },
  {
   "cell_type": "markdown",
   "metadata": {},
   "source": [
    "The buffering structures with nonzero numbers of emergent conserved quantities have antithetic integral control."
   ]
  }
 ],
 "metadata": {
  "kernelspec": {
   "display_name": "Python 3",
   "language": "python",
   "name": "python3"
  },
  "language_info": {
   "codemirror_mode": {
    "name": "ipython",
    "version": 3
   },
   "file_extension": ".py",
   "mimetype": "text/x-python",
   "name": "python",
   "nbconvert_exporter": "python",
   "pygments_lexer": "ipython3",
   "version": "3.9.6"
  }
 },
 "nbformat": 4,
 "nbformat_minor": 2
}
